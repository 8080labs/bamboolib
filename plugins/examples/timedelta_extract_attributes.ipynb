{
 "cells": [
  {
   "cell_type": "markdown",
   "metadata": {},
   "source": [
    "# Extracting attributes from timedelta columns via a ColumnTransformationPlugin\n",
    "\n",
    "inspired by Sailu and the following stackoverflow question:\n",
    "- https://stackoverflow.com/questions/38355816/pandas-add-timedelta-column-to-datetime-column-vectorized\n",
    "\n",
    "__Goal:__ extract the number of weeks as float based on the timedelta column"
   ]
  },
  {
   "cell_type": "code",
   "execution_count": 1,
   "metadata": {},
   "outputs": [],
   "source": [
    "import pandas as pd\n",
    "import numpy as np\n",
    "import bamboolib as bam"
   ]
  },
  {
   "cell_type": "code",
   "execution_count": 2,
   "metadata": {},
   "outputs": [],
   "source": [
    "df = pd.DataFrame()"
   ]
  },
  {
   "cell_type": "code",
   "execution_count": 3,
   "metadata": {},
   "outputs": [],
   "source": [
    "df[\"date\"] = [\"2016-01-10\", \"2016-05-11\", \"2016-02-23\", \"2015-12-08\"]\n",
    "df[\"date\"] = pd.to_datetime(df[\"date\"])"
   ]
  },
  {
   "cell_type": "code",
   "execution_count": 4,
   "metadata": {},
   "outputs": [],
   "source": [
    "df[\"days\"] = [28, 7, 15, 30]\n",
    "df[\"days\"] = pd.to_timedelta(df[\"days\"], \"d\")"
   ]
  },
  {
   "cell_type": "code",
   "execution_count": 5,
   "metadata": {},
   "outputs": [],
   "source": [
    "# # solution:\n",
    "# df['weeks'] = df['days'] / np.timedelta64(1, 'W')"
   ]
  },
  {
   "cell_type": "code",
   "execution_count": 6,
   "metadata": {},
   "outputs": [
    {
     "ename": "ImportError",
     "evalue": "cannot import name 'ColumnTransformationPlugin' from 'bamboolib.plugins' (/Users/florianwetschoreck/projects/CODE#a8080labs/bamboolib_private_lib/bamboolib/plugins/__init__.py)",
     "output_type": "error",
     "traceback": [
      "\u001b[0;31m---------------------------------------------------------------------------\u001b[0m",
      "\u001b[0;31mImportError\u001b[0m                               Traceback (most recent call last)",
      "\u001b[0;32m<ipython-input-6-3454c48837b4>\u001b[0m in \u001b[0;36m<module>\u001b[0;34m\u001b[0m\n\u001b[1;32m      1\u001b[0m \u001b[0;32mimport\u001b[0m \u001b[0mipywidgets\u001b[0m \u001b[0;32mas\u001b[0m \u001b[0mwidgets\u001b[0m\u001b[0;34m\u001b[0m\u001b[0;34m\u001b[0m\u001b[0m\n\u001b[1;32m      2\u001b[0m \u001b[0;34m\u001b[0m\u001b[0m\n\u001b[0;32m----> 3\u001b[0;31m \u001b[0;32mfrom\u001b[0m \u001b[0mbamboolib\u001b[0m\u001b[0;34m.\u001b[0m\u001b[0mplugins\u001b[0m \u001b[0;32mimport\u001b[0m \u001b[0mColumnTransformationPlugin\u001b[0m\u001b[0;34m,\u001b[0m \u001b[0mDF_OLD\u001b[0m\u001b[0;34m,\u001b[0m \u001b[0mDropdown\u001b[0m\u001b[0;34m\u001b[0m\u001b[0;34m\u001b[0m\u001b[0m\n\u001b[0m\u001b[1;32m      4\u001b[0m \u001b[0;34m\u001b[0m\u001b[0m\n\u001b[1;32m      5\u001b[0m \u001b[0;34m\u001b[0m\u001b[0m\n",
      "\u001b[0;31mImportError\u001b[0m: cannot import name 'ColumnTransformationPlugin' from 'bamboolib.plugins' (/Users/florianwetschoreck/projects/CODE#a8080labs/bamboolib_private_lib/bamboolib/plugins/__init__.py)"
     ]
    }
   ],
   "source": [
    "import ipywidgets as widgets\n",
    "\n",
    "from bamboolib.plugins import ColumnTransformationPlugin, DF_OLD, Dropdown\n",
    "\n",
    "\n",
    "class TimedeltaExtractAttribute(ColumnTransformationPlugin):\n",
    "\n",
    "    name = \"Timedelta: extract attribute\"\n",
    "\n",
    "    def __init__(self, *args, column=None, **kwargs):\n",
    "        super().__init__(*args, **kwargs)\n",
    "\n",
    "        self.column = column\n",
    "\n",
    "        self.column = Dropdown(\n",
    "            options=[\n",
    "                (\"years\", \"Y\"),\n",
    "                (\"months\", \"M\"),\n",
    "                (\"weeks\", \"W\"),\n",
    "                (\"days\", \"D\"),\n",
    "                (\"hours\", \"h\"),\n",
    "                (\"minutes\", \"m\"),\n",
    "                (\"seconds\", \"s\"),\n",
    "            ],\n",
    "            value=\"D\",\n",
    "            focus_after_init=True,\n",
    "        )\n",
    "        \n",
    "        # based on https://docs.scipy.org/doc/numpy/reference/arrays.datetime.html#datetime-units\n",
    "        self.attribute = Dropdown(\n",
    "            options=[\n",
    "                (\"years\", \"Y\"),\n",
    "                (\"months\", \"M\"),\n",
    "                (\"weeks\", \"W\"),\n",
    "                (\"days\", \"D\"),\n",
    "                (\"hours\", \"h\"),\n",
    "                (\"minutes\", \"m\"),\n",
    "                (\"seconds\", \"s\"),\n",
    "            ],\n",
    "            value=\"D\",\n",
    "            focus_after_init=True,\n",
    "        )\n",
    "        self.new_column_name = widgets.Text()\n",
    "\n",
    "    def render(self):\n",
    "        self.set_title(\"Extract attribute\")\n",
    "        self.set_content(\n",
    "            widgets.HTML(f\"Convert <b>{self.column}</b> to\"),\n",
    "            self.attribute,\n",
    "            widgets.HTML(\"New column name:\"),\n",
    "            self.new_column_name,\n",
    "        )\n",
    "\n",
    "    def get_description(self):\n",
    "        return (\n",
    "            f\"Extract timedelta attribute {self.attribute.label} from '{self.column}'\"\n",
    "        )\n",
    "\n",
    "    def get_code(self):\n",
    "        return f\"{DF_OLD}['{self.new_column_name.value}'] = {DF_OLD}['{self.column}'] / np.timedelta64(1, '{self.attribute.value}')\""
   ]
  },
  {
   "cell_type": "markdown",
   "metadata": {},
   "source": [
    "__Hint:__ The plugin is shown in bamboolib when clicking on the column header of 'days' and searching for the transformation"
   ]
  },
  {
   "cell_type": "code",
   "execution_count": null,
   "metadata": {},
   "outputs": [],
   "source": [
    "df"
   ]
  },
  {
   "cell_type": "code",
   "execution_count": null,
   "metadata": {},
   "outputs": [],
   "source": []
  }
 ],
 "metadata": {
  "jupytext": {
   "cell_metadata_filter": "-all",
   "notebook_metadata_filter": "-all"
  },
  "kernelspec": {
   "display_name": "Python 3",
   "language": "python",
   "name": "python3"
  },
  "language_info": {
   "codemirror_mode": {
    "name": "ipython",
    "version": 3
   },
   "file_extension": ".py",
   "mimetype": "text/x-python",
   "name": "python",
   "nbconvert_exporter": "python",
   "pygments_lexer": "ipython3",
   "version": "3.7.7"
  }
 },
 "nbformat": 4,
 "nbformat_minor": 2
}
